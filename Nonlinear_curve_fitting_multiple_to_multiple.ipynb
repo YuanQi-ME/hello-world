{
  "nbformat": 4,
  "nbformat_minor": 0,
  "metadata": {
    "colab": {
      "name": "Nonlinear curve fitting - multiple to multiple.ipynb",
      "provenance": [],
      "collapsed_sections": [],
      "authorship_tag": "ABX9TyMiuesdb4yf86zCLNaahlZ2",
      "include_colab_link": true
    },
    "kernelspec": {
      "name": "python3",
      "display_name": "Python 3"
    }
  },
  "cells": [
    {
      "cell_type": "markdown",
      "metadata": {
        "id": "view-in-github",
        "colab_type": "text"
      },
      "source": [
        "<a href=\"https://colab.research.google.com/github/YuanQi-ME/hello-world/blob/master/Nonlinear_curve_fitting_multiple_to_multiple.ipynb\" target=\"_parent\"><img src=\"https://colab.research.google.com/assets/colab-badge.svg\" alt=\"Open In Colab\"/></a>"
      ]
    },
    {
      "cell_type": "markdown",
      "metadata": {
        "id": "i6BVOR7RpnrB",
        "colab_type": "text"
      },
      "source": [
        "# **Introduction**\n",
        "In the previous notebook, we realize the single varible to single varible mapping through simple ANN. In this notebook, we extend it to multiple inputs to single/multiple input(s).\n",
        "\n",
        "We will walk through two examples here. In the first case, we will try to solve the partial differential equations. \n",
        "In the second case, we will try to predict FEM results.\n",
        "In both cases, we only consider state variables, which means the physical state is history-independent, for example, the elastic beam problem. For those cases that are history-dependent, such as plastic deformation and viscocity, we will probably revisit those problems in the future notebook using RNN."
      ]
    },
    {
      "cell_type": "markdown",
      "metadata": {
        "id": "qtjtYPmcrrqB",
        "colab_type": "text"
      },
      "source": [
        "Case I: \n",
        "In this section, we will try to solve PDE\n",
        "$f_{,xx} + f_{,yy} + 2f = 0$, with boundary condition $f(0,y) = f(x,0) = 0$.\n",
        "The analytical solution is $f(x,y) = sin(x)sin(y)$"
      ]
    },
    {
      "cell_type": "code",
      "metadata": {
        "id": "h05uQFan9FEl",
        "colab_type": "code",
        "colab": {
          "base_uri": "https://localhost:8080/",
          "height": 34
        },
        "outputId": "a36e9a31-0c67-4d10-dbe4-ed149c29d728"
      },
      "source": [
        "import numpy as np\n",
        "import tensorflow as tf\n",
        "import tensorflow.keras as keras\n",
        "import matplotlib.pyplot as plt\n",
        "import pandas as pd\n",
        "\n",
        "print(tf.__version__)"
      ],
      "execution_count": 1,
      "outputs": [
        {
          "output_type": "stream",
          "text": [
            "2.2.0\n"
          ],
          "name": "stdout"
        }
      ]
    },
    {
      "cell_type": "code",
      "metadata": {
        "id": "LHgmU_jl-nuj",
        "colab_type": "code",
        "colab": {
          "base_uri": "https://localhost:8080/",
          "height": 286
        },
        "outputId": "582a2972-c93f-493f-da8a-0f95390ec577"
      },
      "source": [
        "# Build model structure\n",
        "def build_model(LAYERS_INFO):\n",
        "  model = keras.Sequential()\n",
        "  model.add(keras.layers.Dense(LAYERS_INFO[0], activation = 'relu', input_shape=[x_data_items]))\n",
        "  for num_ in LAYERS_INFO[1:-1]:\n",
        "    model.add(keras.layers.Dense(num_, activation = 'relu'))\n",
        "\n",
        "  model.add(keras.layers.Dense(LAYERS_INFO[-1]))\n",
        "\n",
        "  optimizer = keras.optimizers.RMSprop(0.001)\n",
        "  model.compile(loss='mse', optimizer = 'adam', metrics=['accuracy'])\n",
        "\n",
        "  return model\n",
        "\n",
        "#  \n",
        "x_data_items = 2\n",
        "LAYERS_INFO = [10,128,128,1]\n",
        "model = build_model(LAYERS_INFO)\n",
        "model.summary()"
      ],
      "execution_count": 2,
      "outputs": [
        {
          "output_type": "stream",
          "text": [
            "Model: \"sequential\"\n",
            "_________________________________________________________________\n",
            "Layer (type)                 Output Shape              Param #   \n",
            "=================================================================\n",
            "dense (Dense)                (None, 10)                30        \n",
            "_________________________________________________________________\n",
            "dense_1 (Dense)              (None, 128)               1408      \n",
            "_________________________________________________________________\n",
            "dense_2 (Dense)              (None, 128)               16512     \n",
            "_________________________________________________________________\n",
            "dense_3 (Dense)              (None, 1)                 129       \n",
            "=================================================================\n",
            "Total params: 18,079\n",
            "Trainable params: 18,079\n",
            "Non-trainable params: 0\n",
            "_________________________________________________________________\n"
          ],
          "name": "stdout"
        }
      ]
    },
    {
      "cell_type": "code",
      "metadata": {
        "id": "K9BHsUyQB4eR",
        "colab_type": "code",
        "colab": {}
      },
      "source": [
        "# create panda frames\n",
        "x_test, y_test = np.linspace(-2*np.pi, 2*np.pi, 1000), np.linspace(-2*np.pi, 2*np.pi, 1000)\n",
        "f_test = np.sin(x_test) * np.sin(y_test)\n",
        "\n",
        "dataset = np.array([x_test, y_test, f_test])\n",
        "dataset = pd.DataFrame(dataset)\n",
        "dataset = dataset.T\n",
        "\n",
        "train_dataset = dataset.sample(frac=0.8,random_state=0)\n",
        "train_dataset_label = train_dataset.drop([0,1], axis=1)\n",
        "train_dataset = train_dataset.drop([2], axis=1)\n",
        "\n",
        "test_dataset = dataset.drop(train_dataset.index)\n",
        "test_dataset_label = test_dataset.drop([0,1], axis=1)\n",
        "test_dataset = test_dataset.drop([2], axis=1)\n",
        "\n",
        "# def norm(x):\n",
        "#   return (x - train_stats['mean']) / train_stats['std']\n",
        "# normed_train_data = norm(train_dataset)\n",
        "# normed_test_data = norm(test_dataset)"
      ],
      "execution_count": 3,
      "outputs": []
    },
    {
      "cell_type": "markdown",
      "metadata": {
        "id": "IBKOQT3YakN4",
        "colab_type": "text"
      },
      "source": [
        "# **Train**"
      ]
    },
    {
      "cell_type": "code",
      "metadata": {
        "id": "Dz0-GPFdF-3F",
        "colab_type": "code",
        "colab": {
          "base_uri": "https://localhost:8080/",
          "height": 1000
        },
        "outputId": "bd7280b3-7025-48a3-d772-6070845d166c"
      },
      "source": [
        "history = model.fit(train_dataset, train_dataset_label, epochs = 100, batch_size = 100)\n",
        "plt.figure()\n",
        "\n",
        "loss = history.history['loss']\n",
        "epochs = range(len(loss))\n",
        "plt.plot(epochs, loss)"
      ],
      "execution_count": 5,
      "outputs": [
        {
          "output_type": "stream",
          "text": [
            "Epoch 1/100\n",
            "8/8 [==============================] - 0s 2ms/step - loss: 0.0676 - accuracy: 0.0000e+00\n",
            "Epoch 2/100\n",
            "8/8 [==============================] - 0s 2ms/step - loss: 0.0668 - accuracy: 0.0000e+00\n",
            "Epoch 3/100\n",
            "8/8 [==============================] - 0s 2ms/step - loss: 0.0658 - accuracy: 0.0000e+00\n",
            "Epoch 4/100\n",
            "8/8 [==============================] - 0s 2ms/step - loss: 0.0660 - accuracy: 0.0000e+00\n",
            "Epoch 5/100\n",
            "8/8 [==============================] - 0s 2ms/step - loss: 0.0661 - accuracy: 0.0000e+00\n",
            "Epoch 6/100\n",
            "8/8 [==============================] - 0s 2ms/step - loss: 0.0647 - accuracy: 0.0000e+00\n",
            "Epoch 7/100\n",
            "8/8 [==============================] - 0s 2ms/step - loss: 0.0647 - accuracy: 0.0000e+00\n",
            "Epoch 8/100\n",
            "8/8 [==============================] - 0s 3ms/step - loss: 0.0646 - accuracy: 0.0000e+00\n",
            "Epoch 9/100\n",
            "8/8 [==============================] - 0s 2ms/step - loss: 0.0637 - accuracy: 0.0000e+00\n",
            "Epoch 10/100\n",
            "8/8 [==============================] - 0s 2ms/step - loss: 0.0643 - accuracy: 0.0000e+00\n",
            "Epoch 11/100\n",
            "8/8 [==============================] - 0s 2ms/step - loss: 0.0648 - accuracy: 0.0000e+00\n",
            "Epoch 12/100\n",
            "8/8 [==============================] - 0s 2ms/step - loss: 0.0619 - accuracy: 0.0000e+00\n",
            "Epoch 13/100\n",
            "8/8 [==============================] - 0s 2ms/step - loss: 0.0615 - accuracy: 0.0000e+00\n",
            "Epoch 14/100\n",
            "8/8 [==============================] - 0s 2ms/step - loss: 0.0604 - accuracy: 0.0000e+00\n",
            "Epoch 15/100\n",
            "8/8 [==============================] - 0s 2ms/step - loss: 0.0605 - accuracy: 0.0000e+00\n",
            "Epoch 16/100\n",
            "8/8 [==============================] - 0s 2ms/step - loss: 0.0597 - accuracy: 0.0000e+00\n",
            "Epoch 17/100\n",
            "8/8 [==============================] - 0s 3ms/step - loss: 0.0610 - accuracy: 0.0000e+00\n",
            "Epoch 18/100\n",
            "8/8 [==============================] - 0s 2ms/step - loss: 0.0588 - accuracy: 0.0000e+00\n",
            "Epoch 19/100\n",
            "8/8 [==============================] - 0s 2ms/step - loss: 0.0574 - accuracy: 0.0000e+00\n",
            "Epoch 20/100\n",
            "8/8 [==============================] - 0s 2ms/step - loss: 0.0582 - accuracy: 0.0000e+00\n",
            "Epoch 21/100\n",
            "8/8 [==============================] - 0s 2ms/step - loss: 0.0579 - accuracy: 0.0000e+00\n",
            "Epoch 22/100\n",
            "8/8 [==============================] - 0s 2ms/step - loss: 0.0564 - accuracy: 0.0000e+00\n",
            "Epoch 23/100\n",
            "8/8 [==============================] - 0s 2ms/step - loss: 0.0557 - accuracy: 0.0000e+00\n",
            "Epoch 24/100\n",
            "8/8 [==============================] - 0s 2ms/step - loss: 0.0537 - accuracy: 0.0000e+00\n",
            "Epoch 25/100\n",
            "8/8 [==============================] - 0s 2ms/step - loss: 0.0538 - accuracy: 0.0000e+00\n",
            "Epoch 26/100\n",
            "8/8 [==============================] - 0s 3ms/step - loss: 0.0533 - accuracy: 0.0000e+00\n",
            "Epoch 27/100\n",
            "8/8 [==============================] - 0s 2ms/step - loss: 0.0520 - accuracy: 0.0000e+00\n",
            "Epoch 28/100\n",
            "8/8 [==============================] - 0s 2ms/step - loss: 0.0519 - accuracy: 0.0000e+00\n",
            "Epoch 29/100\n",
            "8/8 [==============================] - 0s 2ms/step - loss: 0.0498 - accuracy: 0.0000e+00\n",
            "Epoch 30/100\n",
            "8/8 [==============================] - 0s 2ms/step - loss: 0.0498 - accuracy: 0.0000e+00\n",
            "Epoch 31/100\n",
            "8/8 [==============================] - 0s 2ms/step - loss: 0.0483 - accuracy: 0.0000e+00\n",
            "Epoch 32/100\n",
            "8/8 [==============================] - 0s 2ms/step - loss: 0.0477 - accuracy: 0.0000e+00\n",
            "Epoch 33/100\n",
            "8/8 [==============================] - 0s 2ms/step - loss: 0.0462 - accuracy: 0.0000e+00\n",
            "Epoch 34/100\n",
            "8/8 [==============================] - 0s 2ms/step - loss: 0.0458 - accuracy: 0.0000e+00\n",
            "Epoch 35/100\n",
            "8/8 [==============================] - 0s 2ms/step - loss: 0.0445 - accuracy: 0.0000e+00\n",
            "Epoch 36/100\n",
            "8/8 [==============================] - 0s 2ms/step - loss: 0.0434 - accuracy: 0.0000e+00\n",
            "Epoch 37/100\n",
            "8/8 [==============================] - 0s 2ms/step - loss: 0.0436 - accuracy: 0.0000e+00\n",
            "Epoch 38/100\n",
            "8/8 [==============================] - 0s 2ms/step - loss: 0.0418 - accuracy: 0.0000e+00\n",
            "Epoch 39/100\n",
            "8/8 [==============================] - 0s 2ms/step - loss: 0.0410 - accuracy: 0.0000e+00\n",
            "Epoch 40/100\n",
            "8/8 [==============================] - 0s 2ms/step - loss: 0.0405 - accuracy: 0.0000e+00\n",
            "Epoch 41/100\n",
            "8/8 [==============================] - 0s 2ms/step - loss: 0.0409 - accuracy: 0.0000e+00\n",
            "Epoch 42/100\n",
            "8/8 [==============================] - 0s 2ms/step - loss: 0.0395 - accuracy: 0.0000e+00\n",
            "Epoch 43/100\n",
            "8/8 [==============================] - 0s 3ms/step - loss: 0.0384 - accuracy: 0.0000e+00\n",
            "Epoch 44/100\n",
            "8/8 [==============================] - 0s 2ms/step - loss: 0.0361 - accuracy: 0.0000e+00\n",
            "Epoch 45/100\n",
            "8/8 [==============================] - 0s 2ms/step - loss: 0.0353 - accuracy: 0.0000e+00\n",
            "Epoch 46/100\n",
            "8/8 [==============================] - 0s 2ms/step - loss: 0.0342 - accuracy: 0.0000e+00\n",
            "Epoch 47/100\n",
            "8/8 [==============================] - 0s 2ms/step - loss: 0.0361 - accuracy: 0.0000e+00\n",
            "Epoch 48/100\n",
            "8/8 [==============================] - 0s 2ms/step - loss: 0.0359 - accuracy: 0.0000e+00\n",
            "Epoch 49/100\n",
            "8/8 [==============================] - 0s 2ms/step - loss: 0.0318 - accuracy: 0.0000e+00\n",
            "Epoch 50/100\n",
            "8/8 [==============================] - 0s 2ms/step - loss: 0.0313 - accuracy: 0.0000e+00\n",
            "Epoch 51/100\n",
            "8/8 [==============================] - 0s 2ms/step - loss: 0.0296 - accuracy: 0.0000e+00\n",
            "Epoch 52/100\n",
            "8/8 [==============================] - 0s 3ms/step - loss: 0.0290 - accuracy: 0.0000e+00\n",
            "Epoch 53/100\n",
            "8/8 [==============================] - 0s 2ms/step - loss: 0.0276 - accuracy: 0.0000e+00\n",
            "Epoch 54/100\n",
            "8/8 [==============================] - 0s 2ms/step - loss: 0.0249 - accuracy: 0.0000e+00\n",
            "Epoch 55/100\n",
            "8/8 [==============================] - 0s 2ms/step - loss: 0.0232 - accuracy: 0.0000e+00\n",
            "Epoch 56/100\n",
            "8/8 [==============================] - 0s 2ms/step - loss: 0.0227 - accuracy: 0.0000e+00\n",
            "Epoch 57/100\n",
            "8/8 [==============================] - 0s 2ms/step - loss: 0.0216 - accuracy: 0.0000e+00\n",
            "Epoch 58/100\n",
            "8/8 [==============================] - 0s 3ms/step - loss: 0.0208 - accuracy: 0.0000e+00\n",
            "Epoch 59/100\n",
            "8/8 [==============================] - 0s 2ms/step - loss: 0.0201 - accuracy: 0.0000e+00\n",
            "Epoch 60/100\n",
            "8/8 [==============================] - 0s 2ms/step - loss: 0.0177 - accuracy: 0.0000e+00\n",
            "Epoch 61/100\n",
            "8/8 [==============================] - 0s 2ms/step - loss: 0.0169 - accuracy: 0.0000e+00\n",
            "Epoch 62/100\n",
            "8/8 [==============================] - 0s 2ms/step - loss: 0.0160 - accuracy: 0.0000e+00\n",
            "Epoch 63/100\n",
            "8/8 [==============================] - 0s 3ms/step - loss: 0.0153 - accuracy: 0.0000e+00\n",
            "Epoch 64/100\n",
            "8/8 [==============================] - 0s 2ms/step - loss: 0.0138 - accuracy: 0.0000e+00\n",
            "Epoch 65/100\n",
            "8/8 [==============================] - 0s 2ms/step - loss: 0.0129 - accuracy: 0.0000e+00\n",
            "Epoch 66/100\n",
            "8/8 [==============================] - 0s 2ms/step - loss: 0.0132 - accuracy: 0.0000e+00\n",
            "Epoch 67/100\n",
            "8/8 [==============================] - 0s 2ms/step - loss: 0.0117 - accuracy: 0.0000e+00\n",
            "Epoch 68/100\n",
            "8/8 [==============================] - 0s 2ms/step - loss: 0.0105 - accuracy: 0.0000e+00\n",
            "Epoch 69/100\n",
            "8/8 [==============================] - 0s 3ms/step - loss: 0.0099 - accuracy: 0.0000e+00\n",
            "Epoch 70/100\n",
            "8/8 [==============================] - 0s 2ms/step - loss: 0.0090 - accuracy: 0.0000e+00\n",
            "Epoch 71/100\n",
            "8/8 [==============================] - 0s 2ms/step - loss: 0.0085 - accuracy: 0.0000e+00\n",
            "Epoch 72/100\n",
            "8/8 [==============================] - 0s 2ms/step - loss: 0.0079 - accuracy: 0.0000e+00\n",
            "Epoch 73/100\n",
            "8/8 [==============================] - 0s 2ms/step - loss: 0.0080 - accuracy: 0.0000e+00\n",
            "Epoch 74/100\n",
            "8/8 [==============================] - 0s 2ms/step - loss: 0.0072 - accuracy: 0.0000e+00\n",
            "Epoch 75/100\n",
            "8/8 [==============================] - 0s 2ms/step - loss: 0.0063 - accuracy: 0.0000e+00\n",
            "Epoch 76/100\n",
            "8/8 [==============================] - 0s 2ms/step - loss: 0.0068 - accuracy: 0.0000e+00\n",
            "Epoch 77/100\n",
            "8/8 [==============================] - 0s 2ms/step - loss: 0.0058 - accuracy: 0.0000e+00\n",
            "Epoch 78/100\n",
            "8/8 [==============================] - 0s 4ms/step - loss: 0.0053 - accuracy: 0.0000e+00\n",
            "Epoch 79/100\n",
            "8/8 [==============================] - 0s 2ms/step - loss: 0.0051 - accuracy: 0.0000e+00\n",
            "Epoch 80/100\n",
            "8/8 [==============================] - 0s 2ms/step - loss: 0.0049 - accuracy: 0.0000e+00\n",
            "Epoch 81/100\n",
            "8/8 [==============================] - 0s 2ms/step - loss: 0.0040 - accuracy: 0.0000e+00\n",
            "Epoch 82/100\n",
            "8/8 [==============================] - 0s 2ms/step - loss: 0.0037 - accuracy: 0.0000e+00\n",
            "Epoch 83/100\n",
            "8/8 [==============================] - 0s 2ms/step - loss: 0.0034 - accuracy: 0.0000e+00\n",
            "Epoch 84/100\n",
            "8/8 [==============================] - 0s 2ms/step - loss: 0.0033 - accuracy: 0.0000e+00\n",
            "Epoch 85/100\n",
            "8/8 [==============================] - 0s 2ms/step - loss: 0.0031 - accuracy: 0.0000e+00\n",
            "Epoch 86/100\n",
            "8/8 [==============================] - 0s 2ms/step - loss: 0.0032 - accuracy: 0.0000e+00\n",
            "Epoch 87/100\n",
            "8/8 [==============================] - 0s 2ms/step - loss: 0.0026 - accuracy: 0.0000e+00\n",
            "Epoch 88/100\n",
            "8/8 [==============================] - 0s 2ms/step - loss: 0.0025 - accuracy: 0.0000e+00\n",
            "Epoch 89/100\n",
            "8/8 [==============================] - 0s 2ms/step - loss: 0.0025 - accuracy: 0.0000e+00\n",
            "Epoch 90/100\n",
            "8/8 [==============================] - 0s 2ms/step - loss: 0.0034 - accuracy: 0.0000e+00\n",
            "Epoch 91/100\n",
            "8/8 [==============================] - 0s 2ms/step - loss: 0.0028 - accuracy: 0.0000e+00\n",
            "Epoch 92/100\n",
            "8/8 [==============================] - 0s 2ms/step - loss: 0.0023 - accuracy: 0.0000e+00\n",
            "Epoch 93/100\n",
            "8/8 [==============================] - 0s 3ms/step - loss: 0.0024 - accuracy: 0.0000e+00\n",
            "Epoch 94/100\n",
            "8/8 [==============================] - 0s 2ms/step - loss: 0.0023 - accuracy: 0.0000e+00\n",
            "Epoch 95/100\n",
            "8/8 [==============================] - 0s 2ms/step - loss: 0.0023 - accuracy: 0.0000e+00\n",
            "Epoch 96/100\n",
            "8/8 [==============================] - 0s 2ms/step - loss: 0.0019 - accuracy: 0.0000e+00\n",
            "Epoch 97/100\n",
            "8/8 [==============================] - 0s 2ms/step - loss: 0.0019 - accuracy: 0.0000e+00\n",
            "Epoch 98/100\n",
            "8/8 [==============================] - 0s 2ms/step - loss: 0.0017 - accuracy: 0.0000e+00\n",
            "Epoch 99/100\n",
            "8/8 [==============================] - 0s 2ms/step - loss: 0.0014 - accuracy: 0.0000e+00\n",
            "Epoch 100/100\n",
            "8/8 [==============================] - 0s 2ms/step - loss: 0.0014 - accuracy: 0.0000e+00\n"
          ],
          "name": "stdout"
        },
        {
          "output_type": "execute_result",
          "data": {
            "text/plain": [
              "[<matplotlib.lines.Line2D at 0x7f66e6435358>]"
            ]
          },
          "metadata": {
            "tags": []
          },
          "execution_count": 5
        },
        {
          "output_type": "display_data",
          "data": {
            "image/png": "[encoded data removed]",
            "text/plain": [
              "<Figure size 432x288 with 1 Axes>"
            ]
          },
          "metadata": {
            "tags": [],
            "needs_background": "light"
          }
        }
      ]
    },
    {
      "cell_type": "code",
      "metadata": {
        "id": "Os2Y8tjsbh3k",
        "colab_type": "code",
        "colab": {
          "base_uri": "https://localhost:8080/",
          "height": 282
        },
        "outputId": "82f1126e-7a26-4001-f9c2-8af226dcd545"
      },
      "source": [
        "print(model.predict(test_dataset).shape)\n",
        "# print(model.predict(test_dataset), test_dataset_label.shape)\n",
        "plt.figure()\n",
        "plt.scatter(test_dataset_label, model.predict(test_dataset),s=4)\n",
        "plt.axis('equal')\n",
        "plt.show()"
      ],
      "execution_count": 6,
      "outputs": [
        {
          "output_type": "stream",
          "text": [
            "(200, 1)\n"
          ],
          "name": "stdout"
        },
        {
          "output_type": "display_data",
          "data": {
            "image/png": "[encoded data removed]",
            "text/plain": [
              "<Figure size 432x288 with 1 Axes>"
            ]
          },
          "metadata": {
            "tags": [],
            "needs_background": "light"
          }
        }
      ]
    }
  ]
}