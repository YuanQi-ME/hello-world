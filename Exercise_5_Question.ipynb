{
  "nbformat": 4,
  "nbformat_minor": 0,
  "metadata": {
    "accelerator": "GPU",
    "colab": {
      "name": "Exercise_5_Question.ipynb",
      "provenance": [],
      "collapsed_sections": [],
      "include_colab_link": true
    },
    "kernelspec": {
      "display_name": "Python 3",
      "name": "python3"
    }
  },
  "cells": [
    {
      "cell_type": "markdown",
      "metadata": {
        "id": "view-in-github",
        "colab_type": "text"
      },
      "source": [
        "<a href=\"https://colab.research.google.com/github/YuanQi-ME/hello-world/blob/master/Exercise_5_Question.ipynb\" target=\"_parent\"><img src=\"https://colab.research.google.com/assets/colab-badge.svg\" alt=\"Open In Colab\"/></a>"
      ]
    },
    {
      "cell_type": "code",
      "metadata": {
        "id": "zX4Kg8DUTKWO",
        "colab_type": "code",
        "colab": {}
      },
      "source": [
        "#@title Licensed under the Apache License, Version 2.0 (the \"License\");\n",
        "# you may not use this file except in compliance with the License.\n",
        "# You may obtain a copy of the License at\n",
        "#\n",
        "# https://www.apache.org/licenses/LICENSE-2.0\n",
        "#\n",
        "# Unless required by applicable law or agreed to in writing, software\n",
        "# distributed under the License is distributed on an \"AS IS\" BASIS,\n",
        "# WITHOUT WARRANTIES OR CONDITIONS OF ANY KIND, either express or implied.\n",
        "# See the License for the specific language governing permissions and\n",
        "# limitations under the License."
      ],
      "execution_count": null,
      "outputs": []
    },
    {
      "cell_type": "code",
      "metadata": {
        "colab_type": "code",
        "id": "dn-6c02VmqiN",
        "colab": {}
      },
      "source": [
        "# In this exercise you will train a CNN on the FULL Cats-v-dogs dataset\n",
        "# This will require you doing a lot of data preprocessing because\n",
        "# the dataset isn't split into training and validation for you\n",
        "# This code block has all the required inputs\n",
        "import os\n",
        "import zipfile\n",
        "import random\n",
        "import tensorflow as tf\n",
        "from tensorflow.keras.optimizers import RMSprop\n",
        "from tensorflow.keras.preprocessing.image import ImageDataGenerator\n",
        "from shutil import copyfile"
      ],
      "execution_count": null,
      "outputs": []
    },
    {
      "cell_type": "code",
      "metadata": {
        "colab_type": "code",
        "id": "3sd9dQWa23aj",
        "colab": {
          "base_uri": "https://localhost:8080/",
          "height": 202
        },
        "outputId": "e6281fc9-d417-41bc-e76a-d08c28d2c424"
      },
      "source": [
        "# This code block downloads the full Cats-v-Dogs dataset and stores it as \n",
        "# cats-and-dogs.zip. It then unzips it to /tmp\n",
        "# which will create a tmp/PetImages directory containing subdirectories\n",
        "# called 'Cat' and 'Dog' (that's how the original researchers structured it)\n",
        "# If the URL doesn't work, \n",
        "# .   visit https://www.microsoft.com/en-us/download/confirmation.aspx?id=54765\n",
        "# And right click on the 'Download Manually' link to get a new URL\n",
        "\n",
        "!wget --no-check-certificate \\\n",
        "    \"https://download.microsoft.com/download/3/E/1/3E1C3F21-ECDB-4869-8368-6DEBA77B919F/kagglecatsanddogs_3367a.zip\" \\\n",
        "    -O \"/tmp/cats-and-dogs.zip\"\n",
        "\n",
        "local_zip = '/tmp/cats-and-dogs.zip'\n",
        "zip_ref = zipfile.ZipFile(local_zip, 'r')\n",
        "zip_ref.extractall('/tmp')\n",
        "zip_ref.close()\n"
      ],
      "execution_count": null,
      "outputs": [
        {
          "output_type": "stream",
          "text": [
            "--2020-05-06 05:43:19--  https://download.microsoft.com/download/3/E/1/3E1C3F21-ECDB-4869-8368-6DEBA77B919F/kagglecatsanddogs_3367a.zip\n",
            "Resolving download.microsoft.com (download.microsoft.com)... 95.100.196.146, 2a02:26f0:fe00:1b5::e59, 2a02:26f0:fe00:189::e59, ...\n",
            "Connecting to download.microsoft.com (download.microsoft.com)|95.100.196.146|:443... connected.\n",
            "HTTP request sent, awaiting response... 200 OK\n",
            "Length: 824894548 (787M) [application/octet-stream]\n",
            "Saving to: ‘/tmp/cats-and-dogs.zip’\n",
            "\n",
            "/tmp/cats-and-dogs. 100%[===================>] 786.68M  44.6MB/s    in 15s     \n",
            "\n",
            "2020-05-06 05:43:34 (51.0 MB/s) - ‘/tmp/cats-and-dogs.zip’ saved [824894548/824894548]\n",
            "\n"
          ],
          "name": "stdout"
        }
      ]
    },
    {
      "cell_type": "code",
      "metadata": {
        "colab_type": "code",
        "id": "gi3yD62a6X3S",
        "colab": {
          "base_uri": "https://localhost:8080/",
          "height": 50
        },
        "outputId": "29ce8160-58b3-48e3-ee38-b2696f8af4bf"
      },
      "source": [
        "print(len(os.listdir('/tmp/PetImages/Cat/')))\n",
        "print(len(os.listdir('/tmp/PetImages/Dog/')))\n",
        "\n",
        "# Expected Output:\n",
        "# 12501\n",
        "# 12501"
      ],
      "execution_count": null,
      "outputs": [
        {
          "output_type": "stream",
          "text": [
            "12501\n",
            "12501\n"
          ],
          "name": "stdout"
        }
      ]
    },
    {
      "cell_type": "code",
      "metadata": {
        "colab_type": "code",
        "id": "F-QkLjxpmyK2",
        "colab": {}
      },
      "source": [
        "# Use os.mkdir to create your directories\n",
        "# You will need a directory for cats-v-dogs, and subdirectories for training\n",
        "# and testing. These in turn will need subdirectories for 'cats' and 'dogs'\n",
        "try:\n",
        "    # train_dir = os.path.join('/tmp', 'cats-v-dogs')\n",
        "    # os.mkdir(train_dir)\n",
        "    # os.mkdir('/tmp/cats-v-dogs/training')\n",
        "    os.mkdir('/tmp/cats-v-dogs/training/cats')\n",
        "    os.mkdir('/tmp/cats-v-dogs/training/dogs')\n",
        "    os.mkdir(os.path.join(train_dir, 'testing/cats'))\n",
        "    os.mkdir(os.path.join(train_dir, 'testing/dogs'))\n",
        "except OSError:\n",
        "    pass"
      ],
      "execution_count": null,
      "outputs": []
    },
    {
      "cell_type": "code",
      "metadata": {
        "id": "vxwavoIqNJ0Q",
        "colab_type": "code",
        "colab": {
          "base_uri": "https://localhost:8080/",
          "height": 67
        },
        "outputId": "499f5d57-71dc-4b2f-93c4-b8c81597fcb0"
      },
      "source": [
        "# !ls '/tmp'\n",
        "# print(train_dir)\n",
        "!ls '/tmp/cats-v-dogs'\n",
        "\n",
        "\n",
        "!ls '/tmp/cats-v-dogs/training'\n",
        "!ls '/tmp/cats-v-dogs/testing'"
      ],
      "execution_count": null,
      "outputs": [
        {
          "output_type": "stream",
          "text": [
            "testing  training\n",
            "cats  dogs\n",
            "cats  dogs\n"
          ],
          "name": "stdout"
        }
      ]
    },
    {
      "cell_type": "code",
      "metadata": {
        "id": "rC2314FKOt8K",
        "colab_type": "code",
        "colab": {
          "base_uri": "https://localhost:8080/",
          "height": 101
        },
        "outputId": "5c759c9e-b1c9-48e3-c9c7-4ed01be76af8"
      },
      "source": [
        "# !ls '/tmp/PetImages/Cat'\n",
        "\n",
        "print(40*0.93)\n",
        "\n",
        "print(tf.dtypes.cast(40*9.3//10, tf.int32))\n",
        "\n",
        "range(tf.dtypes.cast(9.3, tf.int32))\n",
        "a = range(0,9)\n",
        "b = a[:4]\n",
        "c = a[4:]\n",
        "print(b[-1], c[0])\n",
        "print(range(0,4))\n",
        "range(4,9)\n",
        "\n",
        "\n",
        "print(len(os.listdir(\"/tmp/PetImages/Cat/\")))"
      ],
      "execution_count": null,
      "outputs": [
        {
          "output_type": "stream",
          "text": [
            "37.2\n",
            "tf.Tensor(37, shape=(), dtype=int32)\n",
            "3 4\n",
            "range(0, 4)\n",
            "12501\n"
          ],
          "name": "stdout"
        }
      ]
    },
    {
      "cell_type": "code",
      "metadata": {
        "colab_type": "code",
        "id": "zvSODo0f9LaU",
        "colab": {
          "base_uri": "https://localhost:8080/",
          "height": 50
        },
        "outputId": "8d1901bf-65be-46b1-d2b2-90ad953a7386"
      },
      "source": [
        "# Write a python function called split_data which takes\n",
        "# a SOURCE directory containing the files\n",
        "# a TRAINING directory that a portion of the files will be copied to\n",
        "# a TESTING directory that a portion of the files will be copie to\n",
        "# a SPLIT SIZE to determine the portion\n",
        "# The files should also be randomized, so that the training set is a random\n",
        "# X% of the files, and the test set is the remaining files\n",
        "# SO, for example, if SOURCE is PetImages/Cat, and SPLIT SIZE is .9\n",
        "# Then 90% of the images in PetImages/Cat will be copied to the TRAINING dir\n",
        "# and 10% of the images will be copied to the TESTING dir\n",
        "# Also -- All images should be checked, and if they have a zero file length,\n",
        "# they will not be copied over\n",
        "#\n",
        "# os.listdir(DIRECTORY) gives you a listing of the contents of that directory\n",
        "# os.path.getsize(PATH) gives you the size of the file\n",
        "# copyfile(source, destination) copies a file from source to destination\n",
        "# random.sample(list, len(list)) shuffles a list\n",
        "def split_data(SOURCE, TRAINING, TESTING, SPLIT_SIZE):\n",
        "# YOUR CODE STARTS HERE\n",
        "    source_image_fname = os.listdir(SOURCE)\n",
        "    random.sample(source_image_fname, len(source_image_fname))\n",
        "    split_id = tf.dtypes.cast(len(source_image_fname) * SPLIT_SIZE, tf.int32)\n",
        "\n",
        "    for file_ in source_image_fname[:split_id]:\n",
        "        if os.path.getsize(SOURCE + file_):\n",
        "            copyfile(SOURCE + file_, TRAINING + file_)\n",
        "        else:\n",
        "            print(SOURCE + file_ + ' is zero length, so ignoring')\n",
        "\n",
        "    for file_ in source_image_fname[split_id:]:\n",
        "        if os.path.getsize(SOURCE + file_):\n",
        "            copyfile(SOURCE + file_, TESTING + file_)\n",
        "        else:\n",
        "            print(SOURCE + file_ + ' is zero length, so ignoring')\n",
        "\n",
        "\n",
        "# YOUR CODE ENDS HERE   \n",
        "\n",
        "\n",
        "CAT_SOURCE_DIR = \"/tmp/PetImages/Cat/\"\n",
        "TRAINING_CATS_DIR = \"/tmp/cats-v-dogs/training/cats/\"\n",
        "TESTING_CATS_DIR = \"/tmp/cats-v-dogs/testing/cats/\"\n",
        "DOG_SOURCE_DIR = \"/tmp/PetImages/Dog/\"\n",
        "TRAINING_DOGS_DIR = \"/tmp/cats-v-dogs/training/dogs/\"\n",
        "TESTING_DOGS_DIR = \"/tmp/cats-v-dogs/testing/dogs/\"\n",
        "\n",
        "split_size = .9\n",
        "split_data(CAT_SOURCE_DIR, TRAINING_CATS_DIR, TESTING_CATS_DIR, split_size)\n",
        "split_data(DOG_SOURCE_DIR, TRAINING_DOGS_DIR, TESTING_DOGS_DIR, split_size)\n",
        "\n",
        "# Expected output\n",
        "# 666.jpg is zero length, so ignoring\n",
        "# 11702.jpg is zero length, so ignoring"
      ],
      "execution_count": null,
      "outputs": [
        {
          "output_type": "stream",
          "text": [
            "/tmp/PetImages/Cat/666.jpg is zero length, so ignoring\n",
            "/tmp/PetImages/Dog/11702.jpg is zero length, so ignoring\n"
          ],
          "name": "stdout"
        }
      ]
    },
    {
      "cell_type": "code",
      "metadata": {
        "colab_type": "code",
        "id": "luthalB76ufC",
        "colab": {
          "base_uri": "https://localhost:8080/",
          "height": 84
        },
        "outputId": "7a251d4f-2244-4050-abe0-ecbd558c43ba"
      },
      "source": [
        "print(len(os.listdir('/tmp/cats-v-dogs/training/cats/')))\n",
        "print(len(os.listdir('/tmp/cats-v-dogs/training/dogs/')))\n",
        "print(len(os.listdir('/tmp/cats-v-dogs/testing/cats/')))\n",
        "print(len(os.listdir('/tmp/cats-v-dogs/testing/dogs/')))\n",
        "\n",
        "# Expected output:\n",
        "# 11250\n",
        "# 11250\n",
        "# 1250\n",
        "# 1250"
      ],
      "execution_count": null,
      "outputs": [
        {
          "output_type": "stream",
          "text": [
            "11249\n",
            "11249\n",
            "1251\n",
            "1251\n"
          ],
          "name": "stdout"
        }
      ]
    },
    {
      "cell_type": "code",
      "metadata": {
        "colab_type": "code",
        "id": "-BQrav4anTmj",
        "colab": {}
      },
      "source": [
        "# DEFINE A KERAS MODEL TO CLASSIFY CATS V DOGS\n",
        "# USE AT LEAST 3 CONVOLUTION LAYERS\n",
        "model = tf.keras.models.Sequential([\n",
        "    # Note the input shape is the desired size of the image 300x300 with 3 bytes color\n",
        "    # This is the first convolution\n",
        "    tf.keras.layers.Conv2D(16, (3,3), activation='relu', input_shape=(300, 300, 3)),\n",
        "    tf.keras.layers.MaxPooling2D(2, 2),\n",
        "    # The second convolution\n",
        "    tf.keras.layers.Conv2D(32, (3,3), activation='relu'),\n",
        "    tf.keras.layers.MaxPooling2D(2,2),\n",
        "    # The third convolution\n",
        "    tf.keras.layers.Conv2D(64, (3,3), activation='relu'),\n",
        "    tf.keras.layers.MaxPooling2D(2,2),\n",
        "    # The fourth convolution\n",
        "    tf.keras.layers.Conv2D(64, (3,3), activation='relu'),\n",
        "    tf.keras.layers.MaxPooling2D(2,2),\n",
        "    # The fifth convolution\n",
        "    tf.keras.layers.Conv2D(64, (3,3), activation='relu'),\n",
        "    tf.keras.layers.MaxPooling2D(2,2),\n",
        "    # Flatten the results to feed into a DNN\n",
        "    tf.keras.layers.Flatten(),\n",
        "    # 512 neuron hidden layer\n",
        "    tf.keras.layers.Dense(512, activation='relu'),\n",
        "    # Only 1 output neuron. It will contain a value from 0-1 where 0 for 1 class ('horses') and 1 for the other ('humans')\n",
        "    tf.keras.layers.Dense(1, activation='sigmoid')\n",
        "])\n",
        "\n",
        "model.compile(optimizer=RMSprop(lr=0.001), loss='binary_crossentropy', metrics=['accuracy'])"
      ],
      "execution_count": null,
      "outputs": []
    },
    {
      "cell_type": "code",
      "metadata": {
        "colab_type": "code",
        "id": "mlNjoJ5D61N6",
        "colab": {
          "base_uri": "https://localhost:8080/",
          "height": 50
        },
        "outputId": "b027938d-800f-47ab-d08e-9fb4d9d7a837"
      },
      "source": [
        "TRAINING_DIR = '/tmp/cats-v-dogs/training/'\n",
        "train_datagen = ImageDataGenerator(rescale = 1/255.0)\n",
        "train_generator = train_datagen.flow_from_directory(\n",
        "    TRAINING_DIR, target_size = (300, 300), \n",
        "    batch_size = 500, class_mode = 'binary'\n",
        ")\n",
        "\n",
        "VALIDATION_DIR = '/tmp/cats-v-dogs/testing/'\n",
        "validation_datagen = ImageDataGenerator(rescale = 1/255.0)\n",
        "validation_generator = validation_datagen.flow_from_directory(\n",
        "    VALIDATION_DIR, target_size = (300, 300), \n",
        "    batch_size = 50, class_mode = 'binary'\n",
        ")\n",
        "\n",
        "\n",
        "\n",
        "# Expected Output:\n",
        "# Found 22498 images belonging to 2 classes.\n",
        "# Found 2500 images belonging to 2 classes."
      ],
      "execution_count": null,
      "outputs": [
        {
          "output_type": "stream",
          "text": [
            "Found 22496 images belonging to 2 classes.\n",
            "Found 2502 images belonging to 2 classes.\n"
          ],
          "name": "stdout"
        }
      ]
    },
    {
      "cell_type": "code",
      "metadata": {
        "colab_type": "code",
        "id": "KyS4n53w7DxC",
        "colab": {
          "base_uri": "https://localhost:8080/",
          "height": 1000
        },
        "outputId": "269baf19-e5b1-4243-e296-67bbaf0f0bb2"
      },
      "source": [
        "class myCallback(tf.keras.callbacks.Callback):\n",
        "  def on_epoch_end(self, epoch, logs={}):\n",
        "    if (logs.get('accuracy') > 0.9):\n",
        "      print('\\n Reached 99.9% accuracy so cancelling training!')\n",
        "      self.model.stop_training = True\n",
        "\n",
        "callbacks = myCallback()\n",
        "\n",
        "history = model.fit(train_generator,\n",
        "                              epochs=100,\n",
        "                              steps_per_epoch=20,\n",
        "                              verbose=1,\n",
        "                              validation_data=validation_generator,\n",
        "                               validation_steps=20,\n",
        "                    callbacks = [callbacks])\n",
        "\n",
        "# The expectation here is that the model will train, and that accuracy will be > 95% on both training and validation\n",
        "# i.e. acc:A1 and val_acc:A2 will be visible, and both A1 and A2 will be > .9"
      ],
      "execution_count": null,
      "outputs": [
        {
          "output_type": "stream",
          "text": [
            "Epoch 1/100\n",
            "20/20 [==============================] - 44s 2s/step - loss: 0.8121 - accuracy: 0.5133 - val_loss: 0.6910 - val_accuracy: 0.5090\n",
            "Epoch 2/100\n",
            " 7/20 [=========>....................] - ETA: 24s - loss: 0.6940 - accuracy: 0.5197"
          ],
          "name": "stdout"
        },
        {
          "output_type": "stream",
          "text": [
            "/usr/local/lib/python3.6/dist-packages/PIL/TiffImagePlugin.py:770: UserWarning: Possibly corrupt EXIF data.  Expecting to read 32 bytes but only got 0. Skipping tag 270\n",
            "  \" Skipping tag %s\" % (size, len(data), tag)\n",
            "/usr/local/lib/python3.6/dist-packages/PIL/TiffImagePlugin.py:770: UserWarning: Possibly corrupt EXIF data.  Expecting to read 5 bytes but only got 0. Skipping tag 271\n",
            "  \" Skipping tag %s\" % (size, len(data), tag)\n",
            "/usr/local/lib/python3.6/dist-packages/PIL/TiffImagePlugin.py:770: UserWarning: Possibly corrupt EXIF data.  Expecting to read 8 bytes but only got 0. Skipping tag 272\n",
            "  \" Skipping tag %s\" % (size, len(data), tag)\n",
            "/usr/local/lib/python3.6/dist-packages/PIL/TiffImagePlugin.py:770: UserWarning: Possibly corrupt EXIF data.  Expecting to read 8 bytes but only got 0. Skipping tag 282\n",
            "  \" Skipping tag %s\" % (size, len(data), tag)\n",
            "/usr/local/lib/python3.6/dist-packages/PIL/TiffImagePlugin.py:770: UserWarning: Possibly corrupt EXIF data.  Expecting to read 8 bytes but only got 0. Skipping tag 283\n",
            "  \" Skipping tag %s\" % (size, len(data), tag)\n",
            "/usr/local/lib/python3.6/dist-packages/PIL/TiffImagePlugin.py:770: UserWarning: Possibly corrupt EXIF data.  Expecting to read 20 bytes but only got 0. Skipping tag 306\n",
            "  \" Skipping tag %s\" % (size, len(data), tag)\n",
            "/usr/local/lib/python3.6/dist-packages/PIL/TiffImagePlugin.py:770: UserWarning: Possibly corrupt EXIF data.  Expecting to read 48 bytes but only got 0. Skipping tag 532\n",
            "  \" Skipping tag %s\" % (size, len(data), tag)\n",
            "/usr/local/lib/python3.6/dist-packages/PIL/TiffImagePlugin.py:788: UserWarning: Corrupt EXIF data.  Expecting to read 2 bytes but only got 0. \n",
            "  warnings.warn(str(msg))\n"
          ],
          "name": "stderr"
        },
        {
          "output_type": "stream",
          "text": [
            "20/20 [==============================] - 46s 2s/step - loss: 0.6909 - accuracy: 0.5263 - val_loss: 0.6784 - val_accuracy: 0.6590\n",
            "Epoch 3/100\n",
            "20/20 [==============================] - 48s 2s/step - loss: 0.7129 - accuracy: 0.5518 - val_loss: 0.6784 - val_accuracy: 0.6324\n",
            "Epoch 4/100\n",
            "20/20 [==============================] - 45s 2s/step - loss: 0.6791 - accuracy: 0.5707 - val_loss: 0.6812 - val_accuracy: 0.5340\n",
            "Epoch 5/100\n",
            "20/20 [==============================] - 45s 2s/step - loss: 0.6715 - accuracy: 0.5725 - val_loss: 0.6422 - val_accuracy: 0.6103\n",
            "Epoch 6/100\n",
            "20/20 [==============================] - 44s 2s/step - loss: 0.6867 - accuracy: 0.5717 - val_loss: 0.6855 - val_accuracy: 0.5110\n",
            "Epoch 7/100\n",
            "20/20 [==============================] - 44s 2s/step - loss: 0.6579 - accuracy: 0.6062 - val_loss: 0.6858 - val_accuracy: 0.5740\n",
            "Epoch 8/100\n",
            "20/20 [==============================] - 44s 2s/step - loss: 0.7132 - accuracy: 0.6268 - val_loss: 0.6303 - val_accuracy: 0.6681\n",
            "Epoch 9/100\n",
            "20/20 [==============================] - 45s 2s/step - loss: 0.6257 - accuracy: 0.6648 - val_loss: 0.6182 - val_accuracy: 0.6480\n",
            "Epoch 10/100\n",
            "20/20 [==============================] - 45s 2s/step - loss: 0.6399 - accuracy: 0.6350 - val_loss: 0.5867 - val_accuracy: 0.6859\n",
            "Epoch 11/100\n",
            "20/20 [==============================] - 45s 2s/step - loss: 0.5857 - accuracy: 0.6837 - val_loss: 0.5848 - val_accuracy: 0.6910\n",
            "Epoch 12/100\n",
            "20/20 [==============================] - 45s 2s/step - loss: 0.5892 - accuracy: 0.6802 - val_loss: 0.5734 - val_accuracy: 0.7070\n",
            "Epoch 13/100\n",
            "20/20 [==============================] - 46s 2s/step - loss: 0.5593 - accuracy: 0.7045 - val_loss: 0.5149 - val_accuracy: 0.7300\n",
            "Epoch 14/100\n",
            "20/20 [==============================] - 46s 2s/step - loss: 0.5440 - accuracy: 0.7191 - val_loss: 0.5161 - val_accuracy: 0.7490\n",
            "Epoch 15/100\n",
            "20/20 [==============================] - 46s 2s/step - loss: 0.5665 - accuracy: 0.7106 - val_loss: 0.5481 - val_accuracy: 0.7279\n",
            "Epoch 16/100\n",
            "20/20 [==============================] - 46s 2s/step - loss: 0.5136 - accuracy: 0.7488 - val_loss: 0.5906 - val_accuracy: 0.7070\n",
            "Epoch 17/100\n",
            "20/20 [==============================] - 46s 2s/step - loss: 0.4972 - accuracy: 0.7530 - val_loss: 0.4688 - val_accuracy: 0.7850\n",
            "Epoch 18/100\n",
            "20/20 [==============================] - 46s 2s/step - loss: 0.5129 - accuracy: 0.7456 - val_loss: 0.5164 - val_accuracy: 0.7480\n",
            "Epoch 19/100\n",
            "20/20 [==============================] - 46s 2s/step - loss: 0.4660 - accuracy: 0.7785 - val_loss: 0.4658 - val_accuracy: 0.7830\n",
            "Epoch 20/100\n",
            "20/20 [==============================] - 46s 2s/step - loss: 0.4610 - accuracy: 0.7830 - val_loss: 0.3963 - val_accuracy: 0.8099\n",
            "Epoch 21/100\n",
            "20/20 [==============================] - 46s 2s/step - loss: 0.4610 - accuracy: 0.7846 - val_loss: 0.4377 - val_accuracy: 0.7960\n",
            "Epoch 22/100\n",
            "20/20 [==============================] - 46s 2s/step - loss: 0.4446 - accuracy: 0.7899 - val_loss: 0.4744 - val_accuracy: 0.7742\n",
            "Epoch 23/100\n",
            "20/20 [==============================] - 46s 2s/step - loss: 0.4495 - accuracy: 0.7861 - val_loss: 0.4732 - val_accuracy: 0.7640\n",
            "Epoch 24/100\n",
            "20/20 [==============================] - 46s 2s/step - loss: 0.4344 - accuracy: 0.8006 - val_loss: 0.4237 - val_accuracy: 0.8080\n",
            "Epoch 25/100\n",
            "20/20 [==============================] - 45s 2s/step - loss: 0.4165 - accuracy: 0.8112 - val_loss: 0.3905 - val_accuracy: 0.8120\n",
            "Epoch 26/100\n",
            "20/20 [==============================] - 45s 2s/step - loss: 0.3759 - accuracy: 0.8308 - val_loss: 0.4602 - val_accuracy: 0.7900\n",
            "Epoch 27/100\n",
            "20/20 [==============================] - 45s 2s/step - loss: 0.4050 - accuracy: 0.8183 - val_loss: 0.4148 - val_accuracy: 0.8151\n",
            "Epoch 28/100\n",
            "20/20 [==============================] - 46s 2s/step - loss: 0.3997 - accuracy: 0.8179 - val_loss: 0.3838 - val_accuracy: 0.8150\n",
            "Epoch 29/100\n",
            "20/20 [==============================] - 45s 2s/step - loss: 0.3697 - accuracy: 0.8337 - val_loss: 0.3854 - val_accuracy: 0.8240\n",
            "Epoch 30/100\n",
            "20/20 [==============================] - 45s 2s/step - loss: 0.3588 - accuracy: 0.8368 - val_loss: 0.4198 - val_accuracy: 0.8204\n",
            "Epoch 31/100\n",
            "20/20 [==============================] - 46s 2s/step - loss: 0.3460 - accuracy: 0.8508 - val_loss: 0.3496 - val_accuracy: 0.8340\n",
            "Epoch 32/100\n",
            "20/20 [==============================] - 46s 2s/step - loss: 0.3259 - accuracy: 0.8581 - val_loss: 0.3929 - val_accuracy: 0.8330\n",
            "Epoch 33/100\n",
            "20/20 [==============================] - 46s 2s/step - loss: 0.3387 - accuracy: 0.8491 - val_loss: 0.4320 - val_accuracy: 0.7990\n",
            "Epoch 34/100\n",
            "20/20 [==============================] - 45s 2s/step - loss: 0.3039 - accuracy: 0.8679 - val_loss: 0.3926 - val_accuracy: 0.8220\n",
            "Epoch 35/100\n",
            "20/20 [==============================] - 44s 2s/step - loss: 0.3104 - accuracy: 0.8625 - val_loss: 0.3710 - val_accuracy: 0.8300\n",
            "Epoch 36/100\n",
            "20/20 [==============================] - 44s 2s/step - loss: 0.3092 - accuracy: 0.8639 - val_loss: 0.4084 - val_accuracy: 0.8160\n",
            "Epoch 37/100\n",
            "20/20 [==============================] - 44s 2s/step - loss: 0.2798 - accuracy: 0.8831 - val_loss: 0.3409 - val_accuracy: 0.8519\n",
            "Epoch 38/100\n",
            "20/20 [==============================] - 44s 2s/step - loss: 0.2742 - accuracy: 0.8783 - val_loss: 0.3330 - val_accuracy: 0.8520\n",
            "Epoch 39/100\n",
            "20/20 [==============================] - 44s 2s/step - loss: 0.2799 - accuracy: 0.8797 - val_loss: 0.3742 - val_accuracy: 0.8298\n",
            "Epoch 40/100\n",
            "20/20 [==============================] - 45s 2s/step - loss: 0.2481 - accuracy: 0.8923 - val_loss: 0.3873 - val_accuracy: 0.8410\n",
            "Epoch 41/100\n",
            "20/20 [==============================] - 45s 2s/step - loss: 0.2455 - accuracy: 0.8931 - val_loss: 0.3573 - val_accuracy: 0.8490\n",
            "Epoch 42/100\n",
            "20/20 [==============================] - ETA: 0s - loss: 0.2317 - accuracy: 0.9035\n",
            " Reached 99.9% accuracy so cancelling training!\n",
            "20/20 [==============================] - 44s 2s/step - loss: 0.2317 - accuracy: 0.9035 - val_loss: 0.3695 - val_accuracy: 0.8456\n"
          ],
          "name": "stdout"
        }
      ]
    },
    {
      "cell_type": "code",
      "metadata": {
        "colab_type": "code",
        "id": "MWZrJN4-65RC",
        "colab": {
          "base_uri": "https://localhost:8080/",
          "height": 562
        },
        "outputId": "033b7988-9580-468c-ee86-716b3c143c9a"
      },
      "source": [
        "# PLOT LOSS AND ACCURACY\n",
        "%matplotlib inline\n",
        "\n",
        "import matplotlib.image  as mpimg\n",
        "import matplotlib.pyplot as plt\n",
        "\n",
        "#-----------------------------------------------------------\n",
        "# Retrieve a list of list results on training and test data\n",
        "# sets for each training epoch\n",
        "#-----------------------------------------------------------\n",
        "acc=history.history['accuracy']\n",
        "val_acc=history.history['val_accuracy']\n",
        "loss=history.history['loss']\n",
        "val_loss=history.history['val_loss']\n",
        "\n",
        "epochs=range(len(acc)) # Get number of epochs\n",
        "\n",
        "#------------------------------------------------\n",
        "# Plot training and validation accuracy per epoch\n",
        "#------------------------------------------------\n",
        "plt.plot(epochs, acc, 'r', \"Training Accuracy\")\n",
        "plt.plot(epochs, val_acc, 'b', \"Validation Accuracy\")\n",
        "plt.title('Training and validation accuracy')\n",
        "plt.figure()\n",
        "\n",
        "#------------------------------------------------\n",
        "# Plot training and validation loss per epoch\n",
        "#------------------------------------------------\n",
        "plt.plot(epochs, loss, 'r', \"Training Loss\")\n",
        "plt.plot(epochs, val_loss, 'b', \"Validation Loss\")\n",
        "\n",
        "\n",
        "plt.title('Training and validation loss')\n",
        "\n",
        "# Desired output. Charts with training and validation metrics. No crash :)"
      ],
      "execution_count": null,
      "outputs": [
        {
          "output_type": "execute_result",
          "data": {
            "text/plain": [
              "Text(0.5, 1.0, 'Training and validation loss')"
            ]
          },
          "metadata": {
            "tags": []
          },
          "execution_count": 16
        },
        {
          "output_type": "display_data",
          "data": {
            "image/png": "[encoded data removed]",
            "text/plain": [
              "<Figure size 432x288 with 1 Axes>"
            ]
          },
          "metadata": {
            "tags": [],
            "needs_background": "light"
          }
        },
        {
          "output_type": "display_data",
          "data": {
            "image/png": "[encoded data removed]",
            "text/plain": [
              "<Figure size 432x288 with 1 Axes>"
            ]
          },
          "metadata": {
            "tags": [],
            "needs_background": "light"
          }
        }
      ]
    },
    {
      "cell_type": "code",
      "metadata": {
        "colab_type": "code",
        "id": "LqL6FYUrtXpf",
        "colab": {
          "base_uri": "https://localhost:8080/",
          "height": 128
        },
        "outputId": "cf124a7d-0d8c-4425-fc4f-822b09eb9964"
      },
      "source": [
        "# Here's a codeblock just for fun. You should be able to upload an image here \n",
        "# and have it classified without crashing\n",
        "\n",
        "import numpy as np\n",
        "from google.colab import files\n",
        "from keras.preprocessing import image\n",
        "\n",
        "uploaded = files.upload()\n",
        "\n",
        "for fn in uploaded.keys():\n",
        " \n",
        "  # predicting images\n",
        "  path = '/content/' + fn\n",
        "  img = image.load_img(path, target_size=(# YOUR CODE HERE))\n",
        "  x = image.img_to_array(img)\n",
        "  x = np.expand_dims(x, axis=0)\n",
        "\n",
        "  images = np.vstack([x])\n",
        "  classes = model.predict(images, batch_size=10)\n",
        "  print(classes[0])\n",
        "  if classes[0]>0.5:\n",
        "    print(fn + \" is a dog\")\n",
        "  else:\n",
        "    print(fn + \" is a cat\")"
      ],
      "execution_count": null,
      "outputs": [
        {
          "output_type": "error",
          "ename": "SyntaxError",
          "evalue": "ignored",
          "traceback": [
            "\u001b[0;36m  File \u001b[0;32m\"<ipython-input-18-e23a17d42966>\"\u001b[0;36m, line \u001b[0;32m13\u001b[0m\n\u001b[0;31m    x = image.img_to_array(img)\u001b[0m\n\u001b[0m      ^\u001b[0m\n\u001b[0;31mSyntaxError\u001b[0m\u001b[0;31m:\u001b[0m invalid syntax\n"
          ]
        }
      ]
    }
  ]
}