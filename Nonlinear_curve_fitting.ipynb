{
  "nbformat": 4,
  "nbformat_minor": 0,
  "metadata": {
    "colab": {
      "name": "Nonlinear curve fitting.ipynb",
      "provenance": [],
      "authorship_tag": "ABX9TyMyplqQHQPTINHh1shodwNC",
      "include_colab_link": true
    },
    "kernelspec": {
      "name": "python3",
      "display_name": "Python 3"
    }
  },
  "cells": [
    {
      "cell_type": "markdown",
      "metadata": {
        "id": "view-in-github",
        "colab_type": "text"
      },
      "source": [
        "<a href=\"https://colab.research.google.com/github/YuanQi-ME/hello-world/blob/master/Nonlinear_curve_fitting.ipynb\" target=\"_parent\"><img src=\"https://colab.research.google.com/assets/colab-badge.svg\" alt=\"Open In Colab\"/></a>"
      ]
    },
    {
      "cell_type": "markdown",
      "metadata": {
        "id": "Qrcp9vh6jIi0",
        "colab_type": "text"
      },
      "source": [
        "# **Start with Nonlinear curve fitting**\n",
        "\n",
        "Basically follow the instruction from https://colab.research.google.com/drive/11A5Td8nxGSbThzL0NPwwv-E5GpBa0Fv9\n",
        "\n",
        "I will use hyperelastic model as example"
      ]
    },
    {
      "cell_type": "code",
      "metadata": {
        "id": "eC9hw9NilBkP",
        "colab_type": "code",
        "colab": {
          "base_uri": "https://localhost:8080/",
          "height": 34
        },
        "outputId": "af0837af-5abf-43c0-8de5-1d16bee6e220"
      },
      "source": [
        "import numpy as np\n",
        "import matplotlib.pyplot as plt\n",
        "import tensorflow as tf\n",
        "\n",
        "print(tf.__version__)"
      ],
      "execution_count": 1,
      "outputs": [
        {
          "output_type": "stream",
          "text": [
            "2.2.0\n"
          ],
          "name": "stdout"
        }
      ]
    },
    {
      "cell_type": "markdown",
      "metadata": {
        "id": "8Gf7GGA5mVh3",
        "colab_type": "text"
      },
      "source": [
        "Generate data from Neo Hookean model, for uniaxial tension test, $W = \\frac{\\mu}{2} (I - 3) = \\frac{\\mu}{2} (\\lambda^2 + \\frac{2}{\\lambda} - 3)$\n",
        "\n",
        "Here, for simplicity, assume $\\mu = 1$, all units are omitted.\n"
      ]
    },
    {
      "cell_type": "code",
      "metadata": {
        "id": "a5MwnvEJnHjb",
        "colab_type": "code",
        "colab": {}
      },
      "source": [
        ""
      ],
      "execution_count": null,
      "outputs": []
    }
  ]
}