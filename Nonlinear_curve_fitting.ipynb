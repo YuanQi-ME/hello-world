{
  "nbformat": 4,
  "nbformat_minor": 0,
  "metadata": {
    "colab": {
      "name": "Nonlinear curve fitting.ipynb",
      "provenance": [],
      "collapsed_sections": [],
      "authorship_tag": "ABX9TyN83kMtHljs8dZhiGBrXQQp",
      "include_colab_link": true
    },
    "kernelspec": {
      "name": "python3",
      "display_name": "Python 3"
    }
  },
  "cells": [
    {
      "cell_type": "markdown",
      "metadata": {
        "id": "view-in-github",
        "colab_type": "text"
      },
      "source": [
        "<a href=\"https://colab.research.google.com/github/YuanQi-ME/hello-world/blob/master/Nonlinear_curve_fitting.ipynb\" target=\"_parent\"><img src=\"https://colab.research.google.com/assets/colab-badge.svg\" alt=\"Open In Colab\"/></a>"
      ]
    },
    {
      "cell_type": "markdown",
      "metadata": {
        "id": "Qrcp9vh6jIi0",
        "colab_type": "text"
      },
      "source": [
        "# **Start with Nonlinear curve fitting**\n",
        "\n",
        "Basically follow the instruction from\n",
        "https://colab.research.google.com/drive/11A5Td8nxGSbThzL0NPwwv-E5GpBa0Fv9\n",
        "\n",
        "I will use hyperelastic model as example"
      ]
    },
    {
      "cell_type": "code",
      "metadata": {
        "id": "eC9hw9NilBkP",
        "colab_type": "code",
        "colab": {
          "base_uri": "https://localhost:8080/",
          "height": 34
        },
        "outputId": "c67489f9-6625-4566-83be-405a39267b71"
      },
      "source": [
        "import numpy as np\n",
        "import matplotlib.pyplot as plt\n",
        "import tensorflow as tf\n",
        "import tensorflow.keras as keras\n",
        "\n",
        "print(tf.__version__)"
      ],
      "execution_count": 1,
      "outputs": [
        {
          "output_type": "stream",
          "text": [
            "2.2.0\n"
          ],
          "name": "stdout"
        }
      ]
    },
    {
      "cell_type": "markdown",
      "metadata": {
        "id": "8Gf7GGA5mVh3",
        "colab_type": "text"
      },
      "source": [
        "# **Generate data** \n",
        "For Neo Hookean model, for uniaxial tension test, \n",
        "$W = \\frac{\\mu}{2} (I - 3) = \\frac{\\mu}{2} (\\lambda^2 + \\frac{2}{\\lambda} - 3)$\n",
        "\n",
        "The corresponding nominal stress\n",
        "$S = \\mu (\\lambda - \\frac{1}{\\lambda^2})$\n",
        "\n",
        "Here, for simplicity, assume $\\mu = 1$, all units are omitted.\n"
      ]
    },
    {
      "cell_type": "code",
      "metadata": {
        "id": "a5MwnvEJnHjb",
        "colab_type": "code",
        "colab": {
          "base_uri": "https://localhost:8080/",
          "height": 265
        },
        "outputId": "00f767f7-fa29-4bec-9457-3025a4c34c0c"
      },
      "source": [
        "x_data = np.linspace(1, 5, num = 1000)\n",
        "y_data_true = x_data - 1/x_data**2  # theoretical data\n",
        "\n",
        "y_data = y_data_true + 0.1*np.random.normal(size=1000)  # add experiment noise\n",
        "\n",
        "plt.scatter(x_data, y_data, s=3)\n",
        "plt.plot(x_data, y_data_true, 'r', linewidth = 2)\n",
        "plt.grid()\n",
        "plt.show()"
      ],
      "execution_count": 2,
      "outputs": [
        {
          "output_type": "display_data",
          "data": {
            "image/png": "[encoded data removed]",
            "text/plain": [
              "<Figure size 432x288 with 1 Axes>"
            ]
          },
          "metadata": {
            "tags": [],
            "needs_background": "light"
          }
        }
      ]
    },
    {
      "cell_type": "markdown",
      "metadata": {
        "id": "_-1P0KOdq0kS",
        "colab_type": "text"
      },
      "source": [
        "# **Create neuro network**\n",
        "\n",
        "Create two layers each contains 10 units"
      ]
    },
    {
      "cell_type": "code",
      "metadata": {
        "id": "a3RX_qnJq-Nz",
        "colab_type": "code",
        "colab": {
          "base_uri": "https://localhost:8080/",
          "height": 286
        },
        "outputId": "231eb349-3c2b-4d38-ed03-df796880391c"
      },
      "source": [
        "model = tf.keras.Sequential()\n",
        "model.add(keras.layers.Dense(1, activation = 'linear', input_shape=[1]))\n",
        "model.add(keras.layers.Dense(20, activation = 'relu'))\n",
        "# model.add(keras.layers.Dropout(0.1))\n",
        "# model.add(keras.layers.Dense(20, activation = 'relu'))\n",
        "# model.add(keras.layers.Dropout(0.1))\n",
        "model.add(keras.layers.Dense(5, activation = 'relu'))\n",
        "# model.add(keras.layers.Dense(5, activation = 'relu'))\n",
        "model.add(keras.layers.Dense(1, activation = 'linear'))\n",
        "model.compile(loss = 'mse', optimizer = 'adam', metrics=['accuracy'])\n",
        "\n",
        "model.summary()"
      ],
      "execution_count": 3,
      "outputs": [
        {
          "output_type": "stream",
          "text": [
            "Model: \"sequential\"\n",
            "_________________________________________________________________\n",
            "Layer (type)                 Output Shape              Param #   \n",
            "=================================================================\n",
            "dense (Dense)                (None, 1)                 2         \n",
            "_________________________________________________________________\n",
            "dense_1 (Dense)              (None, 20)                40        \n",
            "_________________________________________________________________\n",
            "dense_2 (Dense)              (None, 5)                 105       \n",
            "_________________________________________________________________\n",
            "dense_3 (Dense)              (None, 1)                 6         \n",
            "=================================================================\n",
            "Total params: 153\n",
            "Trainable params: 153\n",
            "Non-trainable params: 0\n",
            "_________________________________________________________________\n"
          ],
          "name": "stdout"
        }
      ]
    },
    {
      "cell_type": "markdown",
      "metadata": {
        "id": "VgMBIYPgsRAM",
        "colab_type": "text"
      },
      "source": [
        "# **Train**\n",
        "\n",
        "100 epochs"
      ]
    },
    {
      "cell_type": "code",
      "metadata": {
        "id": "BVEwiJ6HsXZk",
        "colab_type": "code",
        "colab": {
          "base_uri": "https://localhost:8080/",
          "height": 1000
        },
        "outputId": "40e3ee12-4b7d-4026-899f-c80dcec6a506"
      },
      "source": [
        "history = model.fit(x_data, y_data, batch_size=50, epochs=100, verbose=1)"
      ],
      "execution_count": 4,
      "outputs": [
        {
          "output_type": "stream",
          "text": [
            "Epoch 1/100\n",
            "20/20 [==============================] - 0s 2ms/step - loss: 5.8835 - accuracy: 0.0000e+00\n",
            "Epoch 2/100\n",
            "20/20 [==============================] - 0s 1ms/step - loss: 4.1591 - accuracy: 0.0000e+00\n",
            "Epoch 3/100\n",
            "20/20 [==============================] - 0s 1ms/step - loss: 2.6192 - accuracy: 0.0000e+00\n",
            "Epoch 4/100\n",
            "20/20 [==============================] - 0s 1ms/step - loss: 1.4133 - accuracy: 0.0000e+00\n",
            "Epoch 5/100\n",
            "20/20 [==============================] - 0s 1ms/step - loss: 0.6556 - accuracy: 0.0000e+00\n",
            "Epoch 6/100\n",
            "20/20 [==============================] - 0s 1ms/step - loss: 0.3058 - accuracy: 0.0000e+00\n",
            "Epoch 7/100\n",
            "20/20 [==============================] - 0s 1ms/step - loss: 0.2063 - accuracy: 0.0000e+00\n",
            "Epoch 8/100\n",
            "20/20 [==============================] - 0s 2ms/step - loss: 0.1905 - accuracy: 0.0000e+00\n",
            "Epoch 9/100\n",
            "20/20 [==============================] - 0s 2ms/step - loss: 0.1849 - accuracy: 0.0000e+00\n",
            "Epoch 10/100\n",
            "20/20 [==============================] - 0s 1ms/step - loss: 0.1801 - accuracy: 0.0000e+00\n",
            "Epoch 11/100\n",
            "20/20 [==============================] - 0s 1ms/step - loss: 0.1751 - accuracy: 0.0000e+00\n",
            "Epoch 12/100\n",
            "20/20 [==============================] - 0s 1ms/step - loss: 0.1698 - accuracy: 0.0000e+00\n",
            "Epoch 13/100\n",
            "20/20 [==============================] - 0s 2ms/step - loss: 0.1647 - accuracy: 0.0000e+00\n",
            "Epoch 14/100\n",
            "20/20 [==============================] - 0s 1ms/step - loss: 0.1593 - accuracy: 0.0000e+00\n",
            "Epoch 15/100\n",
            "20/20 [==============================] - 0s 2ms/step - loss: 0.1539 - accuracy: 0.0000e+00\n",
            "Epoch 16/100\n",
            "20/20 [==============================] - 0s 1ms/step - loss: 0.1486 - accuracy: 0.0000e+00\n",
            "Epoch 17/100\n",
            "20/20 [==============================] - 0s 1ms/step - loss: 0.1431 - accuracy: 0.0000e+00\n",
            "Epoch 18/100\n",
            "20/20 [==============================] - 0s 1ms/step - loss: 0.1376 - accuracy: 0.0000e+00\n",
            "Epoch 19/100\n",
            "20/20 [==============================] - 0s 1ms/step - loss: 0.1321 - accuracy: 0.0000e+00\n",
            "Epoch 20/100\n",
            "20/20 [==============================] - 0s 1ms/step - loss: 0.1266 - accuracy: 0.0000e+00\n",
            "Epoch 21/100\n",
            "20/20 [==============================] - 0s 1ms/step - loss: 0.1213 - accuracy: 0.0000e+00\n",
            "Epoch 22/100\n",
            "20/20 [==============================] - 0s 1ms/step - loss: 0.1158 - accuracy: 0.0000e+00\n",
            "Epoch 23/100\n",
            "20/20 [==============================] - 0s 1ms/step - loss: 0.1108 - accuracy: 0.0000e+00\n",
            "Epoch 24/100\n",
            "20/20 [==============================] - 0s 1ms/step - loss: 0.1055 - accuracy: 0.0000e+00\n",
            "Epoch 25/100\n",
            "20/20 [==============================] - 0s 1ms/step - loss: 0.1005 - accuracy: 0.0000e+00\n",
            "Epoch 26/100\n",
            "20/20 [==============================] - 0s 1ms/step - loss: 0.0955 - accuracy: 0.0000e+00\n",
            "Epoch 27/100\n",
            "20/20 [==============================] - 0s 1ms/step - loss: 0.0908 - accuracy: 0.0000e+00\n",
            "Epoch 28/100\n",
            "20/20 [==============================] - 0s 1ms/step - loss: 0.0862 - accuracy: 0.0000e+00\n",
            "Epoch 29/100\n",
            "20/20 [==============================] - 0s 1ms/step - loss: 0.0816 - accuracy: 0.0000e+00\n",
            "Epoch 30/100\n",
            "20/20 [==============================] - 0s 1ms/step - loss: 0.0773 - accuracy: 0.0000e+00\n",
            "Epoch 31/100\n",
            "20/20 [==============================] - 0s 1ms/step - loss: 0.0732 - accuracy: 0.0000e+00\n",
            "Epoch 32/100\n",
            "20/20 [==============================] - 0s 1ms/step - loss: 0.0691 - accuracy: 0.0000e+00\n",
            "Epoch 33/100\n",
            "20/20 [==============================] - 0s 1ms/step - loss: 0.0653 - accuracy: 0.0000e+00\n",
            "Epoch 34/100\n",
            "20/20 [==============================] - 0s 1ms/step - loss: 0.0618 - accuracy: 0.0000e+00\n",
            "Epoch 35/100\n",
            "20/20 [==============================] - 0s 1ms/step - loss: 0.0583 - accuracy: 0.0000e+00\n",
            "Epoch 36/100\n",
            "20/20 [==============================] - 0s 1ms/step - loss: 0.0551 - accuracy: 0.0000e+00\n",
            "Epoch 37/100\n",
            "20/20 [==============================] - 0s 1ms/step - loss: 0.0520 - accuracy: 0.0000e+00\n",
            "Epoch 38/100\n",
            "20/20 [==============================] - 0s 1ms/step - loss: 0.0492 - accuracy: 0.0000e+00\n",
            "Epoch 39/100\n",
            "20/20 [==============================] - 0s 1ms/step - loss: 0.0465 - accuracy: 0.0000e+00\n",
            "Epoch 40/100\n",
            "20/20 [==============================] - 0s 1ms/step - loss: 0.0440 - accuracy: 0.0000e+00\n",
            "Epoch 41/100\n",
            "20/20 [==============================] - 0s 1ms/step - loss: 0.0417 - accuracy: 0.0000e+00\n",
            "Epoch 42/100\n",
            "20/20 [==============================] - 0s 1ms/step - loss: 0.0396 - accuracy: 0.0000e+00\n",
            "Epoch 43/100\n",
            "20/20 [==============================] - 0s 1ms/step - loss: 0.0377 - accuracy: 0.0000e+00\n",
            "Epoch 44/100\n",
            "20/20 [==============================] - 0s 1ms/step - loss: 0.0359 - accuracy: 0.0000e+00\n",
            "Epoch 45/100\n",
            "20/20 [==============================] - 0s 1ms/step - loss: 0.0343 - accuracy: 0.0000e+00\n",
            "Epoch 46/100\n",
            "20/20 [==============================] - 0s 1ms/step - loss: 0.0328 - accuracy: 0.0000e+00\n",
            "Epoch 47/100\n",
            "20/20 [==============================] - 0s 2ms/step - loss: 0.0315 - accuracy: 0.0000e+00\n",
            "Epoch 48/100\n",
            "20/20 [==============================] - 0s 1ms/step - loss: 0.0304 - accuracy: 0.0000e+00\n",
            "Epoch 49/100\n",
            "20/20 [==============================] - 0s 1ms/step - loss: 0.0292 - accuracy: 0.0000e+00\n",
            "Epoch 50/100\n",
            "20/20 [==============================] - 0s 1ms/step - loss: 0.0283 - accuracy: 0.0000e+00\n",
            "Epoch 51/100\n",
            "20/20 [==============================] - 0s 1ms/step - loss: 0.0275 - accuracy: 0.0000e+00\n",
            "Epoch 52/100\n",
            "20/20 [==============================] - 0s 1ms/step - loss: 0.0267 - accuracy: 0.0000e+00\n",
            "Epoch 53/100\n",
            "20/20 [==============================] - 0s 1ms/step - loss: 0.0261 - accuracy: 0.0000e+00\n",
            "Epoch 54/100\n",
            "20/20 [==============================] - 0s 1ms/step - loss: 0.0255 - accuracy: 0.0000e+00\n",
            "Epoch 55/100\n",
            "20/20 [==============================] - 0s 1ms/step - loss: 0.0251 - accuracy: 0.0000e+00\n",
            "Epoch 56/100\n",
            "20/20 [==============================] - 0s 1ms/step - loss: 0.0246 - accuracy: 0.0000e+00\n",
            "Epoch 57/100\n",
            "20/20 [==============================] - 0s 1ms/step - loss: 0.0242 - accuracy: 0.0000e+00\n",
            "Epoch 58/100\n",
            "20/20 [==============================] - 0s 1ms/step - loss: 0.0239 - accuracy: 0.0000e+00\n",
            "Epoch 59/100\n",
            "20/20 [==============================] - 0s 1ms/step - loss: 0.0237 - accuracy: 0.0000e+00\n",
            "Epoch 60/100\n",
            "20/20 [==============================] - 0s 1ms/step - loss: 0.0234 - accuracy: 0.0000e+00\n",
            "Epoch 61/100\n",
            "20/20 [==============================] - 0s 1ms/step - loss: 0.0232 - accuracy: 0.0000e+00\n",
            "Epoch 62/100\n",
            "20/20 [==============================] - 0s 1ms/step - loss: 0.0228 - accuracy: 0.0000e+00\n",
            "Epoch 63/100\n",
            "20/20 [==============================] - 0s 1ms/step - loss: 0.0217 - accuracy: 0.0000e+00\n",
            "Epoch 64/100\n",
            "20/20 [==============================] - 0s 1ms/step - loss: 0.0206 - accuracy: 0.0000e+00\n",
            "Epoch 65/100\n",
            "20/20 [==============================] - 0s 1ms/step - loss: 0.0195 - accuracy: 0.0000e+00\n",
            "Epoch 66/100\n",
            "20/20 [==============================] - 0s 1ms/step - loss: 0.0183 - accuracy: 0.0000e+00\n",
            "Epoch 67/100\n",
            "20/20 [==============================] - 0s 1ms/step - loss: 0.0174 - accuracy: 0.0000e+00\n",
            "Epoch 68/100\n",
            "20/20 [==============================] - 0s 1ms/step - loss: 0.0166 - accuracy: 0.0000e+00\n",
            "Epoch 69/100\n",
            "20/20 [==============================] - 0s 1ms/step - loss: 0.0158 - accuracy: 0.0000e+00\n",
            "Epoch 70/100\n",
            "20/20 [==============================] - 0s 1ms/step - loss: 0.0152 - accuracy: 0.0000e+00\n",
            "Epoch 71/100\n",
            "20/20 [==============================] - 0s 1ms/step - loss: 0.0147 - accuracy: 0.0000e+00\n",
            "Epoch 72/100\n",
            "20/20 [==============================] - 0s 1ms/step - loss: 0.0142 - accuracy: 0.0000e+00\n",
            "Epoch 73/100\n",
            "20/20 [==============================] - 0s 2ms/step - loss: 0.0138 - accuracy: 0.0000e+00\n",
            "Epoch 74/100\n",
            "20/20 [==============================] - 0s 1ms/step - loss: 0.0134 - accuracy: 0.0000e+00\n",
            "Epoch 75/100\n",
            "20/20 [==============================] - 0s 1ms/step - loss: 0.0131 - accuracy: 0.0000e+00\n",
            "Epoch 76/100\n",
            "20/20 [==============================] - 0s 1ms/step - loss: 0.0128 - accuracy: 0.0000e+00\n",
            "Epoch 77/100\n",
            "20/20 [==============================] - 0s 1ms/step - loss: 0.0126 - accuracy: 0.0000e+00\n",
            "Epoch 78/100\n",
            "20/20 [==============================] - 0s 1ms/step - loss: 0.0123 - accuracy: 0.0000e+00\n",
            "Epoch 79/100\n",
            "20/20 [==============================] - 0s 1ms/step - loss: 0.0121 - accuracy: 0.0000e+00\n",
            "Epoch 80/100\n",
            "20/20 [==============================] - 0s 1ms/step - loss: 0.0119 - accuracy: 0.0000e+00\n",
            "Epoch 81/100\n",
            "20/20 [==============================] - 0s 1ms/step - loss: 0.0117 - accuracy: 0.0000e+00\n",
            "Epoch 82/100\n",
            "20/20 [==============================] - 0s 1ms/step - loss: 0.0116 - accuracy: 0.0000e+00\n",
            "Epoch 83/100\n",
            "20/20 [==============================] - 0s 1ms/step - loss: 0.0114 - accuracy: 0.0000e+00\n",
            "Epoch 84/100\n",
            "20/20 [==============================] - 0s 1ms/step - loss: 0.0112 - accuracy: 0.0000e+00\n",
            "Epoch 85/100\n",
            "20/20 [==============================] - 0s 1ms/step - loss: 0.0111 - accuracy: 0.0000e+00\n",
            "Epoch 86/100\n",
            "20/20 [==============================] - 0s 1ms/step - loss: 0.0109 - accuracy: 0.0000e+00\n",
            "Epoch 87/100\n",
            "20/20 [==============================] - 0s 1ms/step - loss: 0.0109 - accuracy: 0.0000e+00\n",
            "Epoch 88/100\n",
            "20/20 [==============================] - 0s 1ms/step - loss: 0.0107 - accuracy: 0.0000e+00\n",
            "Epoch 89/100\n",
            "20/20 [==============================] - 0s 1ms/step - loss: 0.0106 - accuracy: 0.0000e+00\n",
            "Epoch 90/100\n",
            "20/20 [==============================] - 0s 1ms/step - loss: 0.0106 - accuracy: 0.0000e+00\n",
            "Epoch 91/100\n",
            "20/20 [==============================] - 0s 1ms/step - loss: 0.0105 - accuracy: 0.0000e+00\n",
            "Epoch 92/100\n",
            "20/20 [==============================] - 0s 1ms/step - loss: 0.0104 - accuracy: 0.0000e+00\n",
            "Epoch 93/100\n",
            "20/20 [==============================] - 0s 1ms/step - loss: 0.0104 - accuracy: 0.0000e+00\n",
            "Epoch 94/100\n",
            "20/20 [==============================] - 0s 1ms/step - loss: 0.0103 - accuracy: 0.0000e+00\n",
            "Epoch 95/100\n",
            "20/20 [==============================] - 0s 1ms/step - loss: 0.0103 - accuracy: 0.0000e+00\n",
            "Epoch 96/100\n",
            "20/20 [==============================] - 0s 1ms/step - loss: 0.0102 - accuracy: 0.0000e+00\n",
            "Epoch 97/100\n",
            "20/20 [==============================] - 0s 1ms/step - loss: 0.0102 - accuracy: 0.0000e+00\n",
            "Epoch 98/100\n",
            "20/20 [==============================] - 0s 1ms/step - loss: 0.0102 - accuracy: 0.0000e+00\n",
            "Epoch 99/100\n",
            "20/20 [==============================] - 0s 1ms/step - loss: 0.0100 - accuracy: 0.0000e+00\n",
            "Epoch 100/100\n",
            "20/20 [==============================] - 0s 1ms/step - loss: 0.0100 - accuracy: 0.0000e+00\n"
          ],
          "name": "stdout"
        }
      ]
    },
    {
      "cell_type": "code",
      "metadata": {
        "id": "qZIRe4GEQZfa",
        "colab_type": "code",
        "colab": {
          "base_uri": "https://localhost:8080/",
          "height": 282
        },
        "outputId": "17d48112-3e7f-4785-d26f-86e811bb09ad"
      },
      "source": [
        "loss = history.history['loss']\n",
        "acc = history.history['accuracy']\n",
        "\n",
        "epochs = range(len(loss))\n",
        "plt.figure()\n",
        "plt.subplot(1,2,1)\n",
        "plt.plot(epochs, loss, 'b', label='Training Loss')\n",
        "# plt.plot(epochs, val_loss, 'b', label='Validation Loss')\n",
        "plt.subplot(1,2,2)\n",
        "plt.plot(epochs, acc)\n",
        "plt.legend()\n",
        "\n",
        "plt.show()"
      ],
      "execution_count": 5,
      "outputs": [
        {
          "output_type": "stream",
          "text": [
            "No handles with labels found to put in legend.\n"
          ],
          "name": "stderr"
        },
        {
          "output_type": "display_data",
          "data": {
            "image/png": "[encoded data removed]",
            "text/plain": [
              "<Figure size 432x288 with 2 Axes>"
            ]
          },
          "metadata": {
            "tags": [],
            "needs_background": "light"
          }
        }
      ]
    },
    {
      "cell_type": "markdown",
      "metadata": {
        "id": "TxO50aPXsxIp",
        "colab_type": "text"
      },
      "source": [
        "# **Predict**\n"
      ]
    },
    {
      "cell_type": "code",
      "metadata": {
        "id": "DvHKZ0Fis22J",
        "colab_type": "code",
        "colab": {
          "base_uri": "https://localhost:8080/",
          "height": 265
        },
        "outputId": "e4b33b8b-fb32-42df-de69-4630f9d704f9"
      },
      "source": [
        "y_predict = model.predict(x_data)\n",
        "\n",
        "plt.scatter(x_data, y_data, s=2)\n",
        "plt.plot(x_data, y_predict, 'k', linewidth = 4)\n",
        "plt.plot(x_data, y_data_true, 'r--', linewidth = 4)\n",
        "plt.grid()\n",
        "plt.show()"
      ],
      "execution_count": 6,
      "outputs": [
        {
          "output_type": "display_data",
          "data": {
            "image/png": "[encoded data removed]",
            "text/plain": [
              "<Figure size 432x288 with 1 Axes>"
            ]
          },
          "metadata": {
            "tags": [],
            "needs_background": "light"
          }
        }
      ]
    },
    {
      "cell_type": "markdown",
      "metadata": {
        "id": "a3cYVrvENnbs",
        "colab_type": "text"
      },
      "source": [
        "# **Discussion**\n",
        "Notice that it was almost linear fit. Especially, for the stretch ratio close to $\\lambda = 1$, the nonlinear character was not well captured. \n",
        "\n",
        "Next, we try to divide the dataset into train and test dataset."
      ]
    },
    {
      "cell_type": "code",
      "metadata": {
        "id": "8u4ArqBlOSDS",
        "colab_type": "code",
        "colab": {
          "base_uri": "https://localhost:8080/",
          "height": 709
        },
        "outputId": "4e4ef536-734c-4d2c-ee81-45629f40ba30"
      },
      "source": [
        "index_temp = np.arange(1000)\n",
        "np.random.shuffle(index_temp)\n",
        "\n",
        "x_train = x_data[index_temp[:800]]\n",
        "y_train = y_data[index_temp[:800]]\n",
        "train_dataset = tf.data.Dataset.from_tensor_slices((x_train, y_train))\n",
        "train_dataset = train_dataset.shuffle(buffer_size=1024).batch(50)\n",
        "\n",
        "x_test = x_data[index_temp[800:]]\n",
        "y_test = y_data[index_temp[800:]]\n",
        "test_dataset = tf.data.Dataset.from_tensor_slices((x_test, y_test))\n",
        "test_dataset = test_dataset.batch(50)\n",
        "\n",
        "model = tf.keras.Sequential()\n",
        "model.add(keras.layers.Dense(1, activation = 'linear', input_shape=[1]))\n",
        "model.add(keras.layers.Dense(20, activation = 'relu'))\n",
        "model.add(keras.layers.Dense(5, activation = 'relu'))\n",
        "model.add(keras.layers.Dense(1, activation = 'linear'))\n",
        "model.compile(loss = 'mse', optimizer = 'adam', metrics=['accuracy'])\n",
        "\n",
        "history = model.fit(train_dataset, epochs=20, validation_data=test_dataset, verbose=1)\n"
      ],
      "execution_count": 7,
      "outputs": [
        {
          "output_type": "stream",
          "text": [
            "Epoch 1/20\n",
            "16/16 [==============================] - 0s 11ms/step - loss: 8.3754 - accuracy: 0.0000e+00 - val_loss: 8.1414 - val_accuracy: 0.0000e+00\n",
            "Epoch 2/20\n",
            "16/16 [==============================] - 0s 2ms/step - loss: 7.2830 - accuracy: 0.0000e+00 - val_loss: 7.2232 - val_accuracy: 0.0000e+00\n",
            "Epoch 3/20\n",
            "16/16 [==============================] - 0s 2ms/step - loss: 6.3638 - accuracy: 0.0000e+00 - val_loss: 6.1953 - val_accuracy: 0.0000e+00\n",
            "Epoch 4/20\n",
            "16/16 [==============================] - 0s 2ms/step - loss: 5.3692 - accuracy: 0.0000e+00 - val_loss: 5.1491 - val_accuracy: 0.0000e+00\n",
            "Epoch 5/20\n",
            "16/16 [==============================] - 0s 2ms/step - loss: 4.3808 - accuracy: 0.0000e+00 - val_loss: 4.0941 - val_accuracy: 0.0000e+00\n",
            "Epoch 6/20\n",
            "16/16 [==============================] - 0s 2ms/step - loss: 3.4019 - accuracy: 0.0000e+00 - val_loss: 3.0799 - val_accuracy: 0.0000e+00\n",
            "Epoch 7/20\n",
            "16/16 [==============================] - 0s 2ms/step - loss: 2.4923 - accuracy: 0.0000e+00 - val_loss: 2.1585 - val_accuracy: 0.0000e+00\n",
            "Epoch 8/20\n",
            "16/16 [==============================] - 0s 2ms/step - loss: 1.6866 - accuracy: 0.0000e+00 - val_loss: 1.4049 - val_accuracy: 0.0000e+00\n",
            "Epoch 9/20\n",
            "16/16 [==============================] - 0s 2ms/step - loss: 1.0649 - accuracy: 0.0000e+00 - val_loss: 0.8394 - val_accuracy: 0.0000e+00\n",
            "Epoch 10/20\n",
            "16/16 [==============================] - 0s 2ms/step - loss: 0.6312 - accuracy: 0.0000e+00 - val_loss: 0.4800 - val_accuracy: 0.0000e+00\n",
            "Epoch 11/20\n",
            "16/16 [==============================] - 0s 2ms/step - loss: 0.3795 - accuracy: 0.0000e+00 - val_loss: 0.2905 - val_accuracy: 0.0000e+00\n",
            "Epoch 12/20\n",
            "16/16 [==============================] - 0s 2ms/step - loss: 0.2611 - accuracy: 0.0000e+00 - val_loss: 0.2076 - val_accuracy: 0.0000e+00\n",
            "Epoch 13/20\n",
            "16/16 [==============================] - 0s 2ms/step - loss: 0.2117 - accuracy: 0.0000e+00 - val_loss: 0.1778 - val_accuracy: 0.0000e+00\n",
            "Epoch 14/20\n",
            "16/16 [==============================] - 0s 2ms/step - loss: 0.1948 - accuracy: 0.0000e+00 - val_loss: 0.1645 - val_accuracy: 0.0000e+00\n",
            "Epoch 15/20\n",
            "16/16 [==============================] - 0s 2ms/step - loss: 0.1847 - accuracy: 0.0000e+00 - val_loss: 0.1559 - val_accuracy: 0.0000e+00\n",
            "Epoch 16/20\n",
            "16/16 [==============================] - 0s 2ms/step - loss: 0.1763 - accuracy: 0.0000e+00 - val_loss: 0.1482 - val_accuracy: 0.0000e+00\n",
            "Epoch 17/20\n",
            "16/16 [==============================] - 0s 2ms/step - loss: 0.1681 - accuracy: 0.0000e+00 - val_loss: 0.1403 - val_accuracy: 0.0000e+00\n",
            "Epoch 18/20\n",
            "16/16 [==============================] - 0s 2ms/step - loss: 0.1592 - accuracy: 0.0000e+00 - val_loss: 0.1329 - val_accuracy: 0.0000e+00\n",
            "Epoch 19/20\n",
            "16/16 [==============================] - 0s 2ms/step - loss: 0.1498 - accuracy: 0.0000e+00 - val_loss: 0.1244 - val_accuracy: 0.0000e+00\n",
            "Epoch 20/20\n",
            "16/16 [==============================] - 0s 2ms/step - loss: 0.1405 - accuracy: 0.0000e+00 - val_loss: 0.1160 - val_accuracy: 0.0000e+00\n"
          ],
          "name": "stdout"
        }
      ]
    },
    {
      "cell_type": "code",
      "metadata": {
        "id": "J5ay8zmSX1KB",
        "colab_type": "code",
        "colab": {
          "base_uri": "https://localhost:8080/",
          "height": 265
        },
        "outputId": "b2b8d725-ab9a-45d8-f766-852583a64a09"
      },
      "source": [
        "acc = history.history['accuracy']\n",
        "val_acc = history.history['val_accuracy']\n",
        "loss = history.history['loss']\n",
        "val_loss = history.history['val_loss']\n",
        "\n",
        "epochs = range(len(loss))\n",
        "plt.figure()\n",
        "plt.subplot(1,2,1)\n",
        "plt.plot(epochs, loss, 'b', label='Training Loss')\n",
        "plt.plot(epochs, val_loss, 'r', label='Val Loss')\n",
        "plt.legend()\n",
        "plt.subplot(1,2,2)\n",
        "plt.plot(epochs, acc, 'bo', label='Training accuracy')\n",
        "plt.plot(epochs, val_acc, 'b', label='Validation accuracy')\n",
        "plt.show()\n",
        "\n"
      ],
      "execution_count": 8,
      "outputs": [
        {
          "output_type": "display_data",
          "data": {
            "image/png": "[encoded data removed]",
            "text/plain": [
              "<Figure size 432x288 with 2 Axes>"
            ]
          },
          "metadata": {
            "tags": [],
            "needs_background": "light"
          }
        }
      ]
    },
    {
      "cell_type": "code",
      "metadata": {
        "id": "8DMZKvUfXJ0Y",
        "colab_type": "code",
        "colab": {
          "base_uri": "https://localhost:8080/",
          "height": 265
        },
        "outputId": "b737b4d9-89b4-4232-b204-cf6a31acbee1"
      },
      "source": [
        "y_predict = model.predict(x_data)\n",
        "\n",
        "plt.scatter(x_data, y_data, s=2)\n",
        "plt.plot(x_data, y_predict, 'k', linewidth = 4)\n",
        "plt.plot(x_data, y_data_true, 'r--', linewidth = 4)\n",
        "plt.grid()\n",
        "plt.show()"
      ],
      "execution_count": 9,
      "outputs": [
        {
          "output_type": "display_data",
          "data": {
            "image/png": "[encoded data removed]",
            "text/plain": [
              "<Figure size 432x288 with 1 Axes>"
            ]
          },
          "metadata": {
            "tags": [],
            "needs_background": "light"
          }
        }
      ]
    }
  ]
}