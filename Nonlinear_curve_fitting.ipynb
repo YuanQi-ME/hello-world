{
  "nbformat": 4,
  "nbformat_minor": 0,
  "metadata": {
    "colab": {
      "name": "Nonlinear curve fitting.ipynb",
      "provenance": [],
      "authorship_tag": "ABX9TyOHE6wPFBGavm79r2XBbYnS",
      "include_colab_link": true
    },
    "kernelspec": {
      "name": "python3",
      "display_name": "Python 3"
    }
  },
  "cells": [
    {
      "cell_type": "markdown",
      "metadata": {
        "id": "view-in-github",
        "colab_type": "text"
      },
      "source": [
        "<a href=\"https://colab.research.google.com/github/YuanQi-ME/hello-world/blob/master/Nonlinear_curve_fitting.ipynb\" target=\"_parent\"><img src=\"https://colab.research.google.com/assets/colab-badge.svg\" alt=\"Open In Colab\"/></a>"
      ]
    },
    {
      "cell_type": "markdown",
      "metadata": {
        "id": "Qrcp9vh6jIi0",
        "colab_type": "text"
      },
      "source": [
        "# **Start with Nonlinear curve fitting**\n",
        "\n",
        "Basically follow the instruction from https://colab.research.google.com/drive/11A5Td8nxGSbThzL0NPwwv-E5GpBa0Fv9\n",
        "\n",
        "I will use hyperelastic model as example"
      ]
    },
    {
      "cell_type": "code",
      "metadata": {
        "id": "eC9hw9NilBkP",
        "colab_type": "code",
        "colab": {}
      },
      "source": [
        ""
      ],
      "execution_count": null,
      "outputs": []
    }
  ]
}